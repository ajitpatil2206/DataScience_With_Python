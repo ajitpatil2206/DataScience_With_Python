{
 "cells": [
  {
   "cell_type": "markdown",
   "metadata": {},
   "source": [
    "# Data Files and Summary statistics"
   ]
  },
  {
   "cell_type": "code",
   "execution_count": 1,
   "metadata": {},
   "outputs": [
    {
     "data": {
      "text/plain": [
       "[{'MPG Highway': '31',\n",
       "  'Passengers': '5',\n",
       "  'Length': '177',\n",
       "  'Wheelbase': '102',\n",
       "  'Width': '68',\n",
       "  'U Turn Space': '37',\n",
       "  'Rear seat': '26.5',\n",
       "  'Luggage': '11',\n",
       "  'Weight': '2705',\n",
       "  'Horsepower': '140',\n",
       "  'Fueltank': '13.2'},\n",
       " {'MPG Highway': '25',\n",
       "  'Passengers': '5',\n",
       "  'Length': '195',\n",
       "  'Wheelbase': '115',\n",
       "  'Width': '71',\n",
       "  'U Turn Space': '38',\n",
       "  'Rear seat': '30',\n",
       "  'Luggage': '15',\n",
       "  'Weight': '3560',\n",
       "  'Horsepower': '200',\n",
       "  'Fueltank': '18'},\n",
       " {'MPG Highway': '26',\n",
       "  'Passengers': '5',\n",
       "  'Length': '180',\n",
       "  'Wheelbase': '102',\n",
       "  'Width': '67',\n",
       "  'U Turn Space': '37',\n",
       "  'Rear seat': '28',\n",
       "  'Luggage': '14',\n",
       "  'Weight': '3375',\n",
       "  'Horsepower': '172',\n",
       "  'Fueltank': '16.9'}]"
      ]
     },
     "execution_count": 1,
     "metadata": {},
     "output_type": "execute_result"
    }
   ],
   "source": [
    "import csv\n",
    "\n",
    "# precision 2\n",
    "\n",
    "with open('mpg.csv') as csvfile:\n",
    "    mpg = list(csv.DictReader(csvfile))\n",
    "#creates a list of dictionaries with each column as a key \n",
    "#here each row becomes a dictionary\n",
    "\n",
    "mpg[:3]"
   ]
  },
  {
   "cell_type": "code",
   "execution_count": 2,
   "metadata": {},
   "outputs": [
    {
     "data": {
      "text/plain": [
       "93"
      ]
     },
     "execution_count": 2,
     "metadata": {},
     "output_type": "execute_result"
    }
   ],
   "source": [
    "len(mpg)"
   ]
  },
  {
   "cell_type": "code",
   "execution_count": 3,
   "metadata": {},
   "outputs": [
    {
     "data": {
      "text/plain": [
       "dict_keys(['MPG Highway', 'Passengers', 'Length', 'Wheelbase', 'Width', 'U Turn Space', 'Rear seat', 'Luggage', 'Weight', 'Horsepower', 'Fueltank'])"
      ]
     },
     "execution_count": 3,
     "metadata": {},
     "output_type": "execute_result"
    }
   ],
   "source": [
    "mpg[0].keys()\n",
    "#denotes all the keys used in the dictionaries(dictionaries of rows)"
   ]
  },
  {
   "cell_type": "code",
   "execution_count": 4,
   "metadata": {},
   "outputs": [
    {
     "data": {
      "text/plain": [
       "3072.9032258064517"
      ]
     },
     "execution_count": 4,
     "metadata": {},
     "output_type": "execute_result"
    }
   ],
   "source": [
    "sum(float(c['Weight'])for c in mpg)/len(mpg)\n",
    "#to give average of all the weights\n",
    "#you can use any letter here instead of letter c"
   ]
  },
  {
   "cell_type": "code",
   "execution_count": 5,
   "metadata": {},
   "outputs": [
    {
     "data": {
      "text/plain": [
       "3072.9032258064517"
      ]
     },
     "execution_count": 5,
     "metadata": {},
     "output_type": "execute_result"
    }
   ],
   "source": [
    "sum(int(c['Weight'])for c in mpg)/len(mpg)\n",
    "#why it is still showing same result even after \n",
    "#I used int instead of float"
   ]
  }
 ],
 "metadata": {
  "kernelspec": {
   "display_name": "Python 3",
   "language": "python",
   "name": "python3"
  },
  "language_info": {
   "codemirror_mode": {
    "name": "ipython",
    "version": 3
   },
   "file_extension": ".py",
   "mimetype": "text/x-python",
   "name": "python",
   "nbconvert_exporter": "python",
   "pygments_lexer": "ipython3",
   "version": "3.8.3"
  }
 },
 "nbformat": 4,
 "nbformat_minor": 4
}
